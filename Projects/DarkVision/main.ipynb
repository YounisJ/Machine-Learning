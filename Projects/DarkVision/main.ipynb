{
 "cells": [
  {
   "cell_type": "code",
   "execution_count": 37,
   "metadata": {},
   "outputs": [],
   "source": [
    "import pandas as pd\n",
    "df = pd.read_parquet(\"dataset/cicdarknet.parquet\")\n",
    "# df.shape\n",
    "df.info()\n",
    "# df\n",
    "df = df.drop(columns=['Label.1'], errors='ignore')\n",
    "df.head()\n",
    "df_tor = df[df[\"Label\"].isin([\"Tor\", \"Non-Tor\"])]\n",
    "# Convert categorical labels to numerical (Tor = 1, Non-Tor = 0)\n",
    "df_tor['Label'] = df_tor['Label'].map({'Tor': 1, 'Non-Tor': 0})\n",
    "\n",
    "print(df_tor['Label'].value_counts())  # Check class distribution\n",
    "df_tor.to_parquet(\"Tor_Tor-Not.parquet\")\n",
    "from imblearn.over_sampling import SMOTE\n",
    "from sklearn.model_selection import train_test_split\n",
    "\n",
    "# Features and target\n",
    "X = df_tor.drop(columns=['Label'])\n",
    "y = df_tor['Label']\n",
    "\n",
    "# Splitting before SMOTE to avoid data leakage\n",
    "X_train, X_test, y_train, y_test = train_test_split(X, y, test_size=0.2, stratify=y, random_state=42)\n",
    "\n",
    "# Apply SMOTE to training data only\n",
    "smote = SMOTE(sampling_strategy=0.5, random_state=42)  # Adjust ratio as needed\n",
    "X_train_resampled, y_train_resampled = smote.fit_resample(X_train, y_train)\n",
    "\n",
    "print(\"Before SMOTE:\", y_train.value_counts())\n",
    "print(\"After SMOTE:\", pd.Series(y_train_resampled).value_counts())  # Class distribution after oversampling\n"
   ]
  },
  {
   "cell_type": "code",
   "execution_count": null,
   "metadata": {},
   "outputs": [],
   "source": []
  }
 ],
 "metadata": {
  "kernelspec": {
   "display_name": "Python 3",
   "language": "python",
   "name": "python3"
  },
  "language_info": {
   "codemirror_mode": {
    "name": "ipython",
    "version": 3
   },
   "file_extension": ".py",
   "mimetype": "text/x-python",
   "name": "python",
   "nbconvert_exporter": "python",
   "pygments_lexer": "ipython3",
   "version": "3.12.0"
  }
 },
 "nbformat": 4,
 "nbformat_minor": 2
}
