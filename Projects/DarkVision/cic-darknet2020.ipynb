{
 "cells": [
  {
   "cell_type": "markdown",
   "metadata": {},
   "source": [
    "# CIC-Darknet2020: Exploration with very Simple Models \n",
    "--The dataset has no designated train and test sets. For this demonstration, we will therefore set a random seed. \n",
    "Leaving the choice to split the data into train, validation and test sets to the dataset users introduces more variability in the results and thus less reproducibility. \n",
    "\n",
    "The clean version is hosted [here on Kaggle](https://www.kaggle.com/datasets/dhoogla/cicdarknet2020) in a parquet file for fast loading and storage savings.\n",
    "\n",
    "The models in this notebook will be very simple.One Rule per feature (OneR) and ensemble OneR. \n",
    "\n",
    "For VPN/NoVPN, ensemble OneR reaches a roc-auc score of 0.779, a lot weaker than the other CIC OneR ensemble models.\n",
    "\n",
    "For Tor/NoTor, ensemble OneR reaches a roc-auc score of 0.980, extremely good for such a simple model\n"
   ]
  },
  {
   "cell_type": "code",
   "execution_count": null,
   "metadata": {
    "execution": {
     "iopub.execute_input": "2024-09-12T10:02:29.682199Z",
     "iopub.status.busy": "2024-09-12T10:02:29.681819Z",
     "iopub.status.idle": "2024-09-12T10:02:31.103824Z",
     "shell.execute_reply": "2024-09-12T10:02:31.10225Z",
     "shell.execute_reply.started": "2024-09-12T10:02:29.682164Z"
    },
    "trusted": true
   },
   "outputs": [
    {
     "ename": "",
     "evalue": "",
     "output_type": "error",
     "traceback": [
      "\u001b[1;31mRunning cells with 'Python 3.12.9' requires the ipykernel package.\n",
      "\u001b[1;31mRun the following command to install 'ipykernel' into the Python environment. \n",
      "\u001b[1;31mCommand: 'c:/Users/SONIC/AppData/Local/Microsoft/WindowsApps/python3.12.exe -m pip install ipykernel -U --user --force-reinstall'"
     ]
    }
   ],
   "source": [
    "from fastcore.basics import *\n",
    "from fastcore.parallel import *\n",
    "from sklearn.tree import DecisionTreeClassifier\n",
    "from sklearn.metrics import roc_auc_score, roc_curve, precision_score, recall_score, f1_score, accuracy_score, RocCurveDisplay, balanced_accuracy_score, confusion_matrix, ConfusionMatrixDisplay\n",
    "from os import cpu_count\n",
    "import pandas as pd\n",
    "import numpy as np"
   ]
  },
  {
   "cell_type": "code",
   "execution_count": null,
   "metadata": {
    "execution": {
     "iopub.execute_input": "2024-09-12T10:02:31.106908Z",
     "iopub.status.busy": "2024-09-12T10:02:31.105753Z",
     "iopub.status.idle": "2024-09-12T10:02:31.482152Z",
     "shell.execute_reply": "2024-09-12T10:02:31.480769Z",
     "shell.execute_reply.started": "2024-09-12T10:02:31.106858Z"
    },
    "trusted": true
   },
   "outputs": [],
   "source": [
    "df = pd.read_parquet('dataset/cicdarknet.parquet')\n",
    "df.shape"
   ]
  },
  {
   "cell_type": "code",
   "execution_count": null,
   "metadata": {
    "execution": {
     "iopub.execute_input": "2024-09-12T10:02:31.485088Z",
     "iopub.status.busy": "2024-09-12T10:02:31.484141Z",
     "iopub.status.idle": "2024-09-12T10:02:31.49478Z",
     "shell.execute_reply": "2024-09-12T10:02:31.493194Z",
     "shell.execute_reply.started": "2024-09-12T10:02:31.485032Z"
    },
    "trusted": true
   },
   "outputs": [],
   "source": [
    "df.columns"
   ]
  },
  {
   "cell_type": "code",
   "execution_count": null,
   "metadata": {
    "execution": {
     "iopub.execute_input": "2024-09-12T10:02:31.500437Z",
     "iopub.status.busy": "2024-09-12T10:02:31.499428Z",
     "iopub.status.idle": "2024-09-12T10:02:31.516Z",
     "shell.execute_reply": "2024-09-12T10:02:31.514724Z",
     "shell.execute_reply.started": "2024-09-12T10:02:31.500378Z"
    },
    "trusted": true
   },
   "outputs": [],
   "source": [
    "target = 'Label'\n",
    "df.Label.value_counts()"
   ]
  },
  {
   "cell_type": "code",
   "execution_count": null,
   "metadata": {
    "execution": {
     "iopub.execute_input": "2024-09-12T10:02:31.518037Z",
     "iopub.status.busy": "2024-09-12T10:02:31.517593Z",
     "iopub.status.idle": "2024-09-12T10:02:31.552701Z",
     "shell.execute_reply": "2024-09-12T10:02:31.551122Z",
     "shell.execute_reply.started": "2024-09-12T10:02:31.517998Z"
    },
    "trusted": true
   },
   "outputs": [],
   "source": [
    "df.drop(columns=['Label.1'], inplace=True) # for now, do not use the program label"
   ]
  },
  {
   "cell_type": "code",
   "execution_count": null,
   "metadata": {
    "execution": {
     "iopub.execute_input": "2024-09-12T10:02:31.555757Z",
     "iopub.status.busy": "2024-09-12T10:02:31.555027Z",
     "iopub.status.idle": "2024-09-12T10:02:31.719981Z",
     "shell.execute_reply": "2024-09-12T10:02:31.718568Z",
     "shell.execute_reply.started": "2024-09-12T10:02:31.555677Z"
    },
    "trusted": true
   },
   "outputs": [],
   "source": [
    "vpn = df.loc[(df.Label == 'VPN') | (df.Label == 'NonVPN')].copy(deep=True)\n",
    "tor = df.loc[(df.Label == 'Tor') | (df.Label == 'Non-Tor')].copy(deep=True)\n",
    "# df.drop(df.index[:], inplace=True)"
   ]
  },
  {
   "cell_type": "markdown",
   "metadata": {},
   "source": [
    "## In this notebook the problems are treated as binary, first VPN or noVPN\n",
    "The Label column typically offers the class and for some classes with multiple attacks it labels them individually.\n",
    "In this notebook the first focus is the binary problem so we collapse the class label."
   ]
  },
  {
   "cell_type": "code",
   "execution_count": null,
   "metadata": {
    "execution": {
     "iopub.execute_input": "2024-09-12T10:02:31.722648Z",
     "iopub.status.busy": "2024-09-12T10:02:31.72186Z",
     "iopub.status.idle": "2024-09-12T10:02:31.758141Z",
     "shell.execute_reply": "2024-09-12T10:02:31.75686Z",
     "shell.execute_reply.started": "2024-09-12T10:02:31.722605Z"
    },
    "trusted": true
   },
   "outputs": [],
   "source": [
    "vpn['Label'] = vpn['Label'].astype(dtype='object')\n",
    "vpn.loc[vpn['Label'] == 'VPN', 'Label'] = 1\n",
    "vpn.loc[vpn['Label'] == 'NonVPN', 'Label'] = 0\n",
    "print(vpn['Label'].value_counts())\n",
    "vpn['Label'] = vpn['Label'].astype(dtype=np.int32)"
   ]
  },
  {
   "cell_type": "code",
   "execution_count": null,
   "metadata": {
    "execution": {
     "iopub.execute_input": "2024-09-12T10:02:31.76041Z",
     "iopub.status.busy": "2024-09-12T10:02:31.759888Z",
     "iopub.status.idle": "2024-09-12T10:02:31.770224Z",
     "shell.execute_reply": "2024-09-12T10:02:31.768408Z",
     "shell.execute_reply.started": "2024-09-12T10:02:31.76037Z"
    },
    "trusted": true
   },
   "outputs": [],
   "source": [
    "conts = list(df.columns.difference([target]).values)\n",
    "len(conts)"
   ]
  },
  {
   "cell_type": "code",
   "execution_count": null,
   "metadata": {
    "execution": {
     "iopub.execute_input": "2024-09-12T10:02:31.772834Z",
     "iopub.status.busy": "2024-09-12T10:02:31.772409Z",
     "iopub.status.idle": "2024-09-12T10:02:31.785333Z",
     "shell.execute_reply": "2024-09-12T10:02:31.783975Z",
     "shell.execute_reply.started": "2024-09-12T10:02:31.772794Z"
    },
    "trusted": true
   },
   "outputs": [],
   "source": [
    "def xs_y(df_, targ): \n",
    "    if not isinstance(targ, list):\n",
    "        xs = df_[df_.columns.difference([targ])].copy()\n",
    "    else:\n",
    "        xs = df_[df_.columns.difference(targ)].copy()\n",
    "    y = df_[targ].copy()\n",
    "    return xs, y"
   ]
  },
  {
   "cell_type": "code",
   "execution_count": null,
   "metadata": {
    "execution": {
     "iopub.execute_input": "2024-09-12T10:02:31.788647Z",
     "iopub.status.busy": "2024-09-12T10:02:31.787351Z",
     "iopub.status.idle": "2024-09-12T10:02:31.824532Z",
     "shell.execute_reply": "2024-09-12T10:02:31.823271Z",
     "shell.execute_reply.started": "2024-09-12T10:02:31.788591Z"
    },
    "trusted": true
   },
   "outputs": [],
   "source": [
    "training_set = vpn.sample(frac=0.2, replace=False, random_state=42)\n",
    "testing_set = vpn.drop(index=training_set.index)\n",
    "training_set.shape, testing_set.shape"
   ]
  },
  {
   "cell_type": "code",
   "execution_count": null,
   "metadata": {
    "execution": {
     "iopub.execute_input": "2024-09-12T10:02:31.826689Z",
     "iopub.status.busy": "2024-09-12T10:02:31.826234Z",
     "iopub.status.idle": "2024-09-12T10:02:31.852895Z",
     "shell.execute_reply": "2024-09-12T10:02:31.851339Z",
     "shell.execute_reply.started": "2024-09-12T10:02:31.826641Z"
    },
    "trusted": true
   },
   "outputs": [],
   "source": [
    "X_train, y_train = xs_y(training_set, targ=target)\n",
    "X_test, y_test = xs_y(testing_set, targ=target)"
   ]
  },
  {
   "cell_type": "markdown",
   "metadata": {},
   "source": [
    "### VPN recognition: OneR, one rule per feature"
   ]
  },
  {
   "cell_type": "code",
   "execution_count": null,
   "metadata": {
    "execution": {
     "iopub.execute_input": "2024-09-12T10:02:31.854739Z",
     "iopub.status.busy": "2024-09-12T10:02:31.854356Z",
     "iopub.status.idle": "2024-09-12T10:02:31.865539Z",
     "shell.execute_reply": "2024-09-12T10:02:31.863951Z",
     "shell.execute_reply.started": "2024-09-12T10:02:31.854704Z"
    },
    "trusted": true
   },
   "outputs": [],
   "source": [
    "def evaluate_one_feature(feature, index='', metric=roc_auc_score):    \n",
    "    rootnode = DecisionTreeClassifier(max_depth=1, criterion='gini', class_weight='balanced')    \n",
    "    rootnode.fit(X_train[feature].array.reshape(-1,1), y_train)    \n",
    "    preds = rootnode.predict(X_test[feature].array.reshape(-1,1))\n",
    "    preds_tr = rootnode.predict(X_train[feature].array.reshape(-1,1))    \n",
    "    met = round(metric(y_test, preds), 4)\n",
    "    if met > 0.5:\n",
    "        return [feature, met, rootnode, preds, preds_tr]\n",
    "    else:\n",
    "        return [feature, met, None, [], []]"
   ]
  },
  {
   "cell_type": "code",
   "execution_count": null,
   "metadata": {
    "execution": {
     "iopub.execute_input": "2024-09-12T10:02:31.87368Z",
     "iopub.status.busy": "2024-09-12T10:02:31.872738Z",
     "iopub.status.idle": "2024-09-12T10:02:31.901883Z",
     "shell.execute_reply": "2024-09-12T10:02:31.900579Z",
     "shell.execute_reply.started": "2024-09-12T10:02:31.873634Z"
    },
    "trusted": true
   },
   "outputs": [],
   "source": [
    "evaluate_one_feature('Flow Bytes/s')"
   ]
  },
  {
   "cell_type": "code",
   "execution_count": null,
   "metadata": {
    "execution": {
     "iopub.execute_input": "2024-09-12T10:02:31.904182Z",
     "iopub.status.busy": "2024-09-12T10:02:31.903713Z",
     "iopub.status.idle": "2024-09-12T10:02:32.786411Z",
     "shell.execute_reply": "2024-09-12T10:02:32.784737Z",
     "shell.execute_reply.started": "2024-09-12T10:02:31.904143Z"
    },
    "trusted": true
   },
   "outputs": [],
   "source": [
    "results = parallel(f=evaluate_one_feature, \n",
    "                  items=conts, n_workers=cpu_count(), threadpool=False, progress=True)"
   ]
  },
  {
   "cell_type": "code",
   "execution_count": null,
   "metadata": {
    "execution": {
     "iopub.execute_input": "2024-09-12T10:02:32.789842Z",
     "iopub.status.busy": "2024-09-12T10:02:32.78927Z",
     "iopub.status.idle": "2024-09-12T10:02:32.818146Z",
     "shell.execute_reply": "2024-09-12T10:02:32.813629Z",
     "shell.execute_reply.started": "2024-09-12T10:02:32.789784Z"
    },
    "trusted": true
   },
   "outputs": [],
   "source": [
    "result_df = pd.DataFrame(data=results, columns=['feature', 'roc_auc_score', 'fitted_models', 'predictions', 'preds_train']).sort_values(by='roc_auc_score', ascending=False)"
   ]
  },
  {
   "cell_type": "markdown",
   "metadata": {},
   "source": [
    "## VPN recognition: many features with just 1 split choice above .70 AUROC"
   ]
  },
  {
   "cell_type": "code",
   "execution_count": null,
   "metadata": {
    "execution": {
     "iopub.execute_input": "2024-09-12T10:02:32.82147Z",
     "iopub.status.busy": "2024-09-12T10:02:32.820487Z",
     "iopub.status.idle": "2024-09-12T10:02:32.852277Z",
     "shell.execute_reply": "2024-09-12T10:02:32.850995Z",
     "shell.execute_reply.started": "2024-09-12T10:02:32.821401Z"
    },
    "trusted": true
   },
   "outputs": [],
   "source": [
    "result_df[['feature', 'roc_auc_score']].head(15)"
   ]
  },
  {
   "cell_type": "code",
   "execution_count": null,
   "metadata": {
    "execution": {
     "iopub.execute_input": "2024-09-12T10:02:32.854957Z",
     "iopub.status.busy": "2024-09-12T10:02:32.854184Z",
     "iopub.status.idle": "2024-09-12T10:02:33.121978Z",
     "shell.execute_reply": "2024-09-12T10:02:33.120619Z",
     "shell.execute_reply.started": "2024-09-12T10:02:32.854908Z"
    },
    "trusted": true
   },
   "outputs": [],
   "source": [
    "import seaborn as sns\n",
    "import matplotlib.pyplot as plt"
   ]
  },
  {
   "cell_type": "code",
   "execution_count": null,
   "metadata": {
    "execution": {
     "iopub.execute_input": "2024-09-12T10:02:33.124355Z",
     "iopub.status.busy": "2024-09-12T10:02:33.123891Z",
     "iopub.status.idle": "2024-09-12T10:02:33.143281Z",
     "shell.execute_reply": "2024-09-12T10:02:33.14187Z",
     "shell.execute_reply.started": "2024-09-12T10:02:33.124312Z"
    },
    "trusted": true
   },
   "outputs": [],
   "source": [
    "data_for_plot = pd.concat(objs=[X_train.head(9), y_train.head(9)], axis=1, copy=False, sort=False)"
   ]
  },
  {
   "cell_type": "code",
   "execution_count": null,
   "metadata": {
    "execution": {
     "iopub.execute_input": "2024-09-12T10:02:33.146583Z",
     "iopub.status.busy": "2024-09-12T10:02:33.145566Z",
     "iopub.status.idle": "2024-09-12T10:02:38.952373Z",
     "shell.execute_reply": "2024-09-12T10:02:38.950628Z",
     "shell.execute_reply.started": "2024-09-12T10:02:33.146525Z"
    },
    "trusted": true
   },
   "outputs": [],
   "source": [
    "fig, axes = plt.subplots(3,3, figsize=(12,12))\n",
    "axes = axes.flatten()\n",
    "for i, tf in enumerate(result_df['feature'].head(9)):    \n",
    "    sns.histplot(data=data_for_plot, x=tf, stat='percent', hue='Label', bins=100, ax=axes[i])"
   ]
  },
  {
   "cell_type": "markdown",
   "metadata": {},
   "source": [
    "## VPN Ensemble OneR: 0.780 ROC_AUC score, still a weak predictor\n",
    "The simplest extension is the ensemble OneR model.\n",
    "\n",
    "1. It takes all the features which actually have predictive power\n",
    "2. It uses those single-feature models to predict all samples\n",
    "3. The new predicted output class for a sample is the average (here unweighted) of the predicted output classes from each of the OneR models.\n",
    "\n",
    "If the metric accepts scores or probabilities then you can pass them directly (which is the case for roc_auc)."
   ]
  },
  {
   "cell_type": "code",
   "execution_count": null,
   "metadata": {
    "execution": {
     "iopub.execute_input": "2024-09-12T10:02:38.954691Z",
     "iopub.status.busy": "2024-09-12T10:02:38.954263Z",
     "iopub.status.idle": "2024-09-12T10:02:38.964207Z",
     "shell.execute_reply": "2024-09-12T10:02:38.96236Z",
     "shell.execute_reply.started": "2024-09-12T10:02:38.954652Z"
    },
    "trusted": true
   },
   "outputs": [],
   "source": [
    "useful_features = result_df.loc[result_df['roc_auc_score'] > 0.5]\n",
    "print(f\"{len(useful_features)} / {len(conts)} features have direct separating power (linear)\")"
   ]
  },
  {
   "cell_type": "code",
   "execution_count": null,
   "metadata": {
    "execution": {
     "iopub.execute_input": "2024-09-12T10:02:38.966606Z",
     "iopub.status.busy": "2024-09-12T10:02:38.966063Z",
     "iopub.status.idle": "2024-09-12T10:02:38.992961Z",
     "shell.execute_reply": "2024-09-12T10:02:38.9914Z",
     "shell.execute_reply.started": "2024-09-12T10:02:38.966551Z"
    },
    "trusted": true
   },
   "outputs": [],
   "source": [
    "useful_features['feature'].values"
   ]
  },
  {
   "cell_type": "code",
   "execution_count": null,
   "metadata": {
    "execution": {
     "iopub.execute_input": "2024-09-12T10:02:38.995789Z",
     "iopub.status.busy": "2024-09-12T10:02:38.994949Z",
     "iopub.status.idle": "2024-09-12T10:02:39.016415Z",
     "shell.execute_reply": "2024-09-12T10:02:39.014584Z",
     "shell.execute_reply.started": "2024-09-12T10:02:38.99561Z"
    },
    "trusted": true
   },
   "outputs": [],
   "source": [
    "ensemble_preds = np.mean(np.vstack(useful_features['predictions'].to_numpy()), axis=0)\n",
    "ensemble_preds.shape"
   ]
  },
  {
   "cell_type": "code",
   "execution_count": null,
   "metadata": {
    "execution": {
     "iopub.execute_input": "2024-09-12T10:02:39.0193Z",
     "iopub.status.busy": "2024-09-12T10:02:39.018784Z",
     "iopub.status.idle": "2024-09-12T10:02:39.029346Z",
     "shell.execute_reply": "2024-09-12T10:02:39.027944Z",
     "shell.execute_reply.started": "2024-09-12T10:02:39.019254Z"
    },
    "trusted": true
   },
   "outputs": [],
   "source": [
    "ensemble_preds_train = np.mean(np.vstack(useful_features['preds_train'].to_numpy()), axis=0)\n",
    "ensemble_preds_train.shape"
   ]
  },
  {
   "cell_type": "code",
   "execution_count": null,
   "metadata": {
    "execution": {
     "iopub.execute_input": "2024-09-12T10:02:39.031956Z",
     "iopub.status.busy": "2024-09-12T10:02:39.031396Z",
     "iopub.status.idle": "2024-09-12T10:02:39.044086Z",
     "shell.execute_reply": "2024-09-12T10:02:39.042584Z",
     "shell.execute_reply.started": "2024-09-12T10:02:39.031907Z"
    },
    "trusted": true
   },
   "outputs": [],
   "source": [
    "fpr, tpr, thresholds = roc_curve(y_train, ensemble_preds_train)\n",
    "# get the best threshold\n",
    "J = tpr - fpr\n",
    "ix = np.argmax(J)\n",
    "best_thresh = thresholds[ix]\n",
    "print(\"Best threshold\", best_thresh)"
   ]
  },
  {
   "cell_type": "code",
   "execution_count": null,
   "metadata": {
    "execution": {
     "iopub.execute_input": "2024-09-12T10:02:39.046592Z",
     "iopub.status.busy": "2024-09-12T10:02:39.04597Z",
     "iopub.status.idle": "2024-09-12T10:02:39.103503Z",
     "shell.execute_reply": "2024-09-12T10:02:39.10206Z",
     "shell.execute_reply.started": "2024-09-12T10:02:39.046538Z"
    },
    "trusted": true
   },
   "outputs": [],
   "source": [
    "print(\"The Ensemble OneR model (simple average)\")\n",
    "print(\"ROC-AUC\", round(roc_auc_score(y_true=y_test, y_score=ensemble_preds),4))\n",
    "print(\"Precision\", round(precision_score(y_true=y_test, y_pred=np.where(ensemble_preds >= best_thresh, 1, 0)), 4))\n",
    "print(\"Recall\", round(recall_score(y_true=y_test, y_pred=np.where(ensemble_preds >= best_thresh, 1, 0)), 4))\n",
    "print(\"F1\", round(f1_score(y_true=y_test, y_pred=np.where(ensemble_preds >= best_thresh, 1, 0)), 4))"
   ]
  },
  {
   "cell_type": "markdown",
   "metadata": {},
   "source": [
    "## Next Tor or No Tor? -> 0.980 AUROC with an ensemble One-Rule model\n",
    "Same label collapse"
   ]
  },
  {
   "cell_type": "code",
   "execution_count": null,
   "metadata": {
    "execution": {
     "iopub.execute_input": "2024-09-12T10:02:39.105472Z",
     "iopub.status.busy": "2024-09-12T10:02:39.10504Z",
     "iopub.status.idle": "2024-09-12T10:02:39.144543Z",
     "shell.execute_reply": "2024-09-12T10:02:39.143092Z",
     "shell.execute_reply.started": "2024-09-12T10:02:39.105435Z"
    },
    "trusted": true
   },
   "outputs": [],
   "source": [
    "tor['Label'] = tor['Label'].astype(dtype='object')\n",
    "tor.loc[tor['Label'] == 'Tor', 'Label'] = 1\n",
    "tor.loc[tor['Label'] == 'Non-Tor', 'Label'] = 0\n",
    "print(tor['Label'].value_counts())\n",
    "tor['Label'] = tor['Label'].astype(dtype=np.int32)"
   ]
  },
  {
   "cell_type": "code",
   "execution_count": null,
   "metadata": {
    "execution": {
     "iopub.execute_input": "2024-09-12T10:02:39.146921Z",
     "iopub.status.busy": "2024-09-12T10:02:39.146483Z",
     "iopub.status.idle": "2024-09-12T10:02:39.197009Z",
     "shell.execute_reply": "2024-09-12T10:02:39.19561Z",
     "shell.execute_reply.started": "2024-09-12T10:02:39.146884Z"
    },
    "trusted": true
   },
   "outputs": [],
   "source": [
    "training_set = tor.sample(frac=0.2, replace=False, random_state=42)\n",
    "testing_set = tor.drop(index=training_set.index)\n",
    "training_set.shape, testing_set.shape"
   ]
  },
  {
   "cell_type": "code",
   "execution_count": null,
   "metadata": {
    "execution": {
     "iopub.execute_input": "2024-09-12T10:02:39.199485Z",
     "iopub.status.busy": "2024-09-12T10:02:39.198938Z",
     "iopub.status.idle": "2024-09-12T10:02:39.232304Z",
     "shell.execute_reply": "2024-09-12T10:02:39.230882Z",
     "shell.execute_reply.started": "2024-09-12T10:02:39.199433Z"
    },
    "trusted": true
   },
   "outputs": [],
   "source": [
    "X_train, y_train = xs_y(training_set, targ=target)\n",
    "X_test, y_test = xs_y(testing_set, targ=target)"
   ]
  },
  {
   "cell_type": "code",
   "execution_count": null,
   "metadata": {
    "execution": {
     "iopub.execute_input": "2024-09-12T10:02:39.234579Z",
     "iopub.status.busy": "2024-09-12T10:02:39.234055Z",
     "iopub.status.idle": "2024-09-12T10:02:39.962713Z",
     "shell.execute_reply": "2024-09-12T10:02:39.961311Z",
     "shell.execute_reply.started": "2024-09-12T10:02:39.23453Z"
    },
    "trusted": true
   },
   "outputs": [],
   "source": [
    "results = parallel(f=evaluate_one_feature, \n",
    "                  items=conts, n_workers=os.cpu_count(), threadpool=False, progress=True)"
   ]
  },
  {
   "cell_type": "code",
   "execution_count": null,
   "metadata": {
    "execution": {
     "iopub.execute_input": "2024-09-12T10:02:39.964962Z",
     "iopub.status.busy": "2024-09-12T10:02:39.964548Z",
     "iopub.status.idle": "2024-09-12T10:02:39.975179Z",
     "shell.execute_reply": "2024-09-12T10:02:39.973929Z",
     "shell.execute_reply.started": "2024-09-12T10:02:39.964919Z"
    },
    "trusted": true
   },
   "outputs": [],
   "source": [
    "result_df = pd.DataFrame(data=results, columns=['feature', 'roc_auc_score', 'fitted_models', 'predictions', 'preds_train']).sort_values(by='roc_auc_score', ascending=False)"
   ]
  },
  {
   "cell_type": "markdown",
   "metadata": {},
   "source": [
    "## Tor recognition: many features with just 1 split choice above .70 AUROC, 2 above 0.89"
   ]
  },
  {
   "cell_type": "code",
   "execution_count": null,
   "metadata": {
    "execution": {
     "iopub.execute_input": "2024-09-12T10:02:39.977431Z",
     "iopub.status.busy": "2024-09-12T10:02:39.976937Z",
     "iopub.status.idle": "2024-09-12T10:02:39.998148Z",
     "shell.execute_reply": "2024-09-12T10:02:39.996733Z",
     "shell.execute_reply.started": "2024-09-12T10:02:39.977383Z"
    },
    "trusted": true
   },
   "outputs": [],
   "source": [
    "result_df[['feature', 'roc_auc_score']].head(15)"
   ]
  },
  {
   "cell_type": "code",
   "execution_count": null,
   "metadata": {
    "execution": {
     "iopub.execute_input": "2024-09-12T10:02:40.000334Z",
     "iopub.status.busy": "2024-09-12T10:02:39.999865Z",
     "iopub.status.idle": "2024-09-12T10:02:40.020138Z",
     "shell.execute_reply": "2024-09-12T10:02:40.018791Z",
     "shell.execute_reply.started": "2024-09-12T10:02:40.000296Z"
    },
    "trusted": true
   },
   "outputs": [],
   "source": [
    "data_for_plot = pd.concat(objs=[X_train.head(9), y_train.head(9)], axis=1, copy=False, sort=False)"
   ]
  },
  {
   "cell_type": "code",
   "execution_count": null,
   "metadata": {
    "execution": {
     "iopub.execute_input": "2024-09-12T10:02:40.022299Z",
     "iopub.status.busy": "2024-09-12T10:02:40.021883Z",
     "iopub.status.idle": "2024-09-12T10:02:43.231467Z",
     "shell.execute_reply": "2024-09-12T10:02:43.229874Z",
     "shell.execute_reply.started": "2024-09-12T10:02:40.022262Z"
    },
    "trusted": true
   },
   "outputs": [],
   "source": [
    "fig, axes = plt.subplots(3,3, figsize=(12,12))\n",
    "axes = axes.flatten()\n",
    "for i, tf in enumerate(result_df['feature'].head(9)):    \n",
    "    sns.histplot(data=data_for_plot, x=tf, stat='percent', hue='Label', bins=100, ax=axes[i])"
   ]
  },
  {
   "cell_type": "code",
   "execution_count": null,
   "metadata": {
    "execution": {
     "iopub.execute_input": "2024-09-12T10:02:43.234275Z",
     "iopub.status.busy": "2024-09-12T10:02:43.233877Z",
     "iopub.status.idle": "2024-09-12T10:02:43.24195Z",
     "shell.execute_reply": "2024-09-12T10:02:43.240568Z",
     "shell.execute_reply.started": "2024-09-12T10:02:43.234239Z"
    },
    "trusted": true
   },
   "outputs": [],
   "source": [
    "useful_features = result_df.loc[result_df['roc_auc_score'] > 0.5]\n",
    "print(f\"{len(useful_features)} / {len(conts)} features have direct separating power (linear)\")"
   ]
  },
  {
   "cell_type": "code",
   "execution_count": null,
   "metadata": {
    "execution": {
     "iopub.execute_input": "2024-09-12T10:02:43.244262Z",
     "iopub.status.busy": "2024-09-12T10:02:43.243733Z",
     "iopub.status.idle": "2024-09-12T10:02:43.258309Z",
     "shell.execute_reply": "2024-09-12T10:02:43.256942Z",
     "shell.execute_reply.started": "2024-09-12T10:02:43.244161Z"
    },
    "trusted": true
   },
   "outputs": [],
   "source": [
    "useful_features['feature'].values"
   ]
  },
  {
   "cell_type": "code",
   "execution_count": null,
   "metadata": {
    "execution": {
     "iopub.execute_input": "2024-09-12T10:02:43.260246Z",
     "iopub.status.busy": "2024-09-12T10:02:43.25981Z",
     "iopub.status.idle": "2024-09-12T10:02:43.282217Z",
     "shell.execute_reply": "2024-09-12T10:02:43.281022Z",
     "shell.execute_reply.started": "2024-09-12T10:02:43.260209Z"
    },
    "trusted": true
   },
   "outputs": [],
   "source": [
    "ensemble_preds = np.mean(np.vstack(useful_features['predictions'].to_numpy()), axis=0)\n",
    "ensemble_preds.shape"
   ]
  },
  {
   "cell_type": "code",
   "execution_count": null,
   "metadata": {
    "execution": {
     "iopub.execute_input": "2024-09-12T10:02:43.28418Z",
     "iopub.status.busy": "2024-09-12T10:02:43.283705Z",
     "iopub.status.idle": "2024-09-12T10:02:43.295352Z",
     "shell.execute_reply": "2024-09-12T10:02:43.293926Z",
     "shell.execute_reply.started": "2024-09-12T10:02:43.284143Z"
    },
    "trusted": true
   },
   "outputs": [],
   "source": [
    "ensemble_preds_train = np.mean(np.vstack(useful_features['preds_train'].to_numpy()), axis=0)\n",
    "ensemble_preds_train.shape"
   ]
  },
  {
   "cell_type": "code",
   "execution_count": null,
   "metadata": {
    "execution": {
     "iopub.execute_input": "2024-09-12T10:02:43.297748Z",
     "iopub.status.busy": "2024-09-12T10:02:43.297212Z",
     "iopub.status.idle": "2024-09-12T10:02:43.310183Z",
     "shell.execute_reply": "2024-09-12T10:02:43.308601Z",
     "shell.execute_reply.started": "2024-09-12T10:02:43.297698Z"
    },
    "trusted": true
   },
   "outputs": [],
   "source": [
    "fpr, tpr, thresholds = roc_curve(y_train, ensemble_preds_train)\n",
    "# get the best threshold\n",
    "J = tpr - fpr\n",
    "ix = np.argmax(J)\n",
    "best_thresh = thresholds[ix]\n",
    "print(\"Best threshold\", best_thresh)"
   ]
  },
  {
   "cell_type": "code",
   "execution_count": null,
   "metadata": {
    "execution": {
     "iopub.execute_input": "2024-09-12T10:02:43.312444Z",
     "iopub.status.busy": "2024-09-12T10:02:43.311943Z",
     "iopub.status.idle": "2024-09-12T10:02:43.49655Z",
     "shell.execute_reply": "2024-09-12T10:02:43.495077Z",
     "shell.execute_reply.started": "2024-09-12T10:02:43.312397Z"
    },
    "trusted": true
   },
   "outputs": [],
   "source": [
    "fpr, tpr, _ = roc_curve(y_train, ensemble_preds_train, pos_label=1)\n",
    "roc_display = RocCurveDisplay(fpr=fpr, tpr=tpr).plot()"
   ]
  },
  {
   "cell_type": "code",
   "execution_count": null,
   "metadata": {
    "execution": {
     "iopub.execute_input": "2024-09-12T10:02:43.504801Z",
     "iopub.status.busy": "2024-09-12T10:02:43.503365Z",
     "iopub.status.idle": "2024-09-12T10:02:43.596871Z",
     "shell.execute_reply": "2024-09-12T10:02:43.595611Z",
     "shell.execute_reply.started": "2024-09-12T10:02:43.50474Z"
    },
    "trusted": true
   },
   "outputs": [],
   "source": [
    "print(\"The Ensemble OneR model (simple average)\")\n",
    "print(\"ROC-AUC\", round(roc_auc_score(y_true=y_test, y_score=ensemble_preds),4))\n",
    "print(\"Precision\", round(precision_score(y_true=y_test, y_pred=np.where(ensemble_preds >= best_thresh, 1, 0)), 4))\n",
    "print(\"Recall\", round(recall_score(y_true=y_test, y_pred=np.where(ensemble_preds >= best_thresh, 1, 0)), 4))\n",
    "print(\"F1\", round(f1_score(y_true=y_test, y_pred=np.where(ensemble_preds >= best_thresh, 1, 0)), 4))\n",
    "print(\"Accuracy\", round(accuracy_score(y_true=y_test, y_pred=np.where(ensemble_preds >= best_thresh, 1, 0)), 4))\n",
    "print(\"Balanced accuracy\", round(balanced_accuracy_score(y_true=y_test, y_pred=np.where(ensemble_preds >= best_thresh, 1, 0)), 4))"
   ]
  },
  {
   "cell_type": "code",
   "execution_count": null,
   "metadata": {
    "execution": {
     "iopub.execute_input": "2024-09-12T10:02:43.59877Z",
     "iopub.status.busy": "2024-09-12T10:02:43.598367Z",
     "iopub.status.idle": "2024-09-12T10:02:43.819856Z",
     "shell.execute_reply": "2024-09-12T10:02:43.81835Z",
     "shell.execute_reply.started": "2024-09-12T10:02:43.598733Z"
    },
    "trusted": true
   },
   "outputs": [],
   "source": [
    "cm = confusion_matrix(y_true=y_test, y_pred=np.where(ensemble_preds >= best_thresh, 1, 0))\n",
    "cm_display = ConfusionMatrixDisplay(cm).plot()"
   ]
  }
 ],
 "metadata": {
  "kaggle": {
   "accelerator": "none",
   "dataSources": [
    {
     "datasetId": 2401183,
     "sourceId": 4059966,
     "sourceType": "datasetVersion"
    }
   ],
   "dockerImageVersionId": 30213,
   "isGpuEnabled": false,
   "isInternetEnabled": false,
   "language": "python",
   "sourceType": "notebook"
  },
  "kernelspec": {
   "display_name": "Python 3",
   "language": "python",
   "name": "python3"
  },
  "language_info": {
   "codemirror_mode": {
    "name": "ipython",
    "version": 3
   },
   "file_extension": ".py",
   "mimetype": "text/x-python",
   "name": "python",
   "nbconvert_exporter": "python",
   "pygments_lexer": "ipython3",
   "version": "3.12.9"
  }
 },
 "nbformat": 4,
 "nbformat_minor": 4
}
