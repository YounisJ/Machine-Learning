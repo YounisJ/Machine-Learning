# Import Necessary Libraries
from sklearn.datasets import fetch_california_housing
from sklearn.model_selection import train_test_split
from sklearn.metrics import r2_score
from sklearn.ensemble import RandomForestRegressor
import pandas as pd

# Load Dataset
california_housing = fetch_california_housing()
df = pd.DataFrame(california_housing.data, columns=california_housing.feature_names)
df['House_Value'] = california_housing.target

# Split dataset into X (features) and y (target)
X = df.drop(columns=["House_Value"])
y = df["House_Value"]

# Split into Train (80%) and Test (20%)
X_train, X_test, y_train, y_test = train_test_split(X, y, test_size=0.2, random_state=42)

# Load and Train the Random Forest Model
model = RandomForestRegressor(n_estimators=100, random_state=42)  # 100 trees
model.fit(X_train, y_train)

# Predict and Evaluate the Model
y_pred = model.predict(X_test)
print(f"R² Score: {r2_score(y_test, y_pred)}")
