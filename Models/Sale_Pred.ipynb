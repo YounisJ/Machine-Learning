import pandas as pd
from sklearn.linear_model import LinearRegression
from sklearn.metrics import r2_score
from sklearn.model_selection import train_test_split

# Dataset Load
df = pd.read_csv("Advertising.csv")
X = df[["TV","Radio","Newspaper"]]
y = df[["Sales"]]

# Split data
X_train,X_test,y_train,y_test = train_test_split(X,y,test_size=0.2)

# Train and predict
model = LinearRegression()
model.fit(X_train,y_train)
y_pred = model.predict(X_test)

# Accuracy 0.80-0.93
print(r2_score(y_test,y_pred))
